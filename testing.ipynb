{
 "cells": [
  {
   "cell_type": "code",
   "execution_count": 1,
   "metadata": {},
   "outputs": [],
   "source": [
    "import z3"
   ]
  },
  {
   "cell_type": "markdown",
   "metadata": {},
   "source": [
    "Assume we have the following circuit:\n",
    "```\n",
    "A    B \n",
    " \\  /\n",
    " AND0    C\n",
    " /  \\0  /\n",
    "     OR0\n",
    "      |1\n",
    "     out\n",
    "```\n",
    "Note that `AND`s have 2 outputs, though only one is used. ORs have only 1.\n",
    "On each wire there is an unshown \"translator gate\" (labeled with an integer on the wire), translating from the output of one gate to the input of the next. This is not the case for the wires between inputs and gates, however.\n",
    "\n",
    "It may be the case that there are actually translators between inputs and gates---I need to ask Chris.\n"
   ]
  },
  {
   "cell_type": "code",
   "execution_count": null,
   "metadata": {},
   "outputs": [],
   "source": []
  },
  {
   "cell_type": "markdown",
   "metadata": {},
   "source": [
    "Each gate gets the following variables:\n",
    "\n",
    "1. A variable for each of the inputs and outputs, representing the input's/output's species, and\n",
    "2. A variable for the gate itself, indicating the gate's ID\n",
    "\n"
   ]
  },
  {
   "cell_type": "code",
   "execution_count": 2,
   "metadata": {},
   "outputs": [],
   "source": [
    "and0_input0 = z3.Int(\"and0_input0\")\n",
    "and0_input1 = z3.Int(\"and0_input1\")\n",
    "and0_output0 = z3.Int(\"and0_output0\")\n",
    "and0_output1 = z3.Int(\"and0_output1\")\n",
    "and0 = z3.Int(\"and0\")\n",
    "\n",
    "gates = [(and0, (and0_input0, and0_input1, and0_output0, and0_output1))]\n",
    "\n",
    "translator0_input = z3.Int(\"translator0_input\")\n",
    "translator0_output = z3.Int(\"translator0_output\")\n",
    "translator0 = z3.Int(\"translator0\")\n",
    "\n",
    "or0_input0 = z3.Int(\"or0_input0\")\n",
    "or0_input1 = z3.Int(\"or0_input1\")\n",
    "or0_output = z3.Int(\"or0_output\")\n",
    "\n",
    "translator1_input = z3.Int(\"translator1_input\")\n",
    "translator1_output = z3.Int(\"translator1_output\")\n",
    "translator1 = z3.Int(\"translator1\")\n",
    "\n",
    "translators = [\n",
    "    (translator0, (translator0_input, translator0_output)),\n",
    "    (translator1, (translator1_input, translator1_output)),\n",
    "]"
   ]
  },
  {
   "cell_type": "markdown",
   "metadata": {},
   "source": [
    "Note that `OR` gates don't actually have a gate associated with them! `OR` gates are not gates---they occur \"naturally\", when multiple translators map to the same species!"
   ]
  },
  {
   "cell_type": "markdown",
   "metadata": {},
   "source": [
    "We wire up the circuit shown above by declaring constraints about which species must match:"
   ]
  },
  {
   "cell_type": "code",
   "execution_count": 3,
   "metadata": {},
   "outputs": [],
   "source": [
    "a = z3.IntVal(100)\n",
    "b = z3.IntVal(101)\n",
    "c = z3.IntVal(102)\n",
    "out = z3.IntVal(103)\n",
    "\n",
    "s = z3.Solver()\n",
    "s.add(and0_input0 == a)\n",
    "s.add(and0_input1 == b)\n",
    "s.add(translator0_input == and0_output0)\n",
    "s.add(or0_input0 == translator0_output)\n",
    "s.add(or0_input1 == c)\n",
    "s.add(or0_output == or0_input0)\n",
    "s.add(or0_output == or0_input1)\n",
    "s.add(translator1_input == or0_output)\n",
    "s.add(out == translator1_output)"
   ]
  },
  {
   "cell_type": "markdown",
   "metadata": {},
   "source": [
    "Now we set some other constraints. We start with gate and translator constraints. Each gate or translator must be assigned to a valid gate or translator from a library of gates and a library of translators:"
   ]
  },
  {
   "cell_type": "code",
   "execution_count": 4,
   "metadata": {},
   "outputs": [],
   "source": [
    "gate_library = [\n",
    "    # Each gate stores its id, and the species ids of its inputs and outputs:\n",
    "    # (gate_id, (in0, in1, out0, out1))\n",
    "    (0, (0, 1, 2, 3))\n",
    "]\n",
    "\n",
    "for (gate, (i0, i1, o0, o1)) in gates:\n",
    "    for (lgate, (li0, li1, lo0, lo1)) in gate_library:\n",
    "        s.add(z3.Implies(gate == lgate, i0 == li0))\n",
    "        s.add(z3.Implies(gate == lgate, i1 == li1))\n",
    "        s.add(z3.Implies(gate == lgate, o0 == lo0))\n",
    "        s.add(z3.Implies(gate == lgate, o1 == lo1))"
   ]
  },
  {
   "cell_type": "markdown",
   "metadata": {},
   "source": [
    "Also, no gate can be used twice:\n",
    "(I'm not sure how correct this is!)"
   ]
  },
  {
   "cell_type": "code",
   "execution_count": 5,
   "metadata": {},
   "outputs": [],
   "source": [
    "for (gate, _) in gates:\n",
    "    for (other_gate, _) in gates:\n",
    "        if gate == other_gate:\n",
    "            continue\n",
    "        s.add(gate != other_gate)"
   ]
  },
  {
   "cell_type": "markdown",
   "metadata": {},
   "source": [
    "Each gate must be assigned to a valid gate in the library:"
   ]
  },
  {
   "cell_type": "code",
   "execution_count": 6,
   "metadata": {},
   "outputs": [],
   "source": [
    "for (gate, _) in gates:\n",
    "    or_expr = False\n",
    "    for (lgate, _) in gate_library:\n",
    "        or_expr = z3.Or(or_expr, (lgate == gate))\n",
    "    s.add(or_expr)"
   ]
  },
  {
   "cell_type": "code",
   "execution_count": 7,
   "metadata": {},
   "outputs": [],
   "source": [
    "translator_library = [\n",
    "    # Each translator stores its id, and the species ids of its input and output:\n",
    "    # (translator_id, (in, out))\n",
    "    (0, (0, 2))\n",
    "]\n",
    "\n",
    "for (translator, (i, o)) in translators:\n",
    "    for (ltranslator, (li, lo)) in translator_library:\n",
    "        s.add(z3.Implies(translator == ltranslator, i == li))\n",
    "        s.add(z3.Implies(translator == ltranslator, o == lo))"
   ]
  },
  {
   "cell_type": "code",
   "execution_count": 8,
   "metadata": {},
   "outputs": [],
   "source": [
    "for (translator, _) in translators:\n",
    "    for (other_translator, _) in translators:\n",
    "        if translator == other_translator:\n",
    "            continue\n",
    "        s.add(translator != other_translator)"
   ]
  },
  {
   "cell_type": "code",
   "execution_count": 9,
   "metadata": {},
   "outputs": [],
   "source": [
    "for (translator, _) in translators:\n",
    "    or_expr = False\n",
    "    for (ltranslator, _) in translator_library:\n",
    "        or_expr = z3.Or(or_expr, (ltranslator == translator))\n",
    "    s.add(or_expr)"
   ]
  },
  {
   "cell_type": "code",
   "execution_count": 10,
   "metadata": {},
   "outputs": [
    {
     "output_type": "stream",
     "name": "stdout",
     "text": [
      "[100 == and0_input0,\n 101 == and0_input1,\n translator0_input == and0_output0,\n or0_input0 == translator0_output,\n 102 == or0_input1,\n or0_output == or0_input0,\n or0_output == or0_input1,\n translator1_input == or0_output,\n 103 == translator1_output,\n Implies(and0 == 0, and0_input0 == 0),\n Implies(and0 == 0, and0_input1 == 1),\n Implies(and0 == 0, and0_output0 == 2),\n Implies(and0 == 0, and0_output1 == 3),\n Or(False, and0 == 0),\n Implies(translator0 == 0, translator0_input == 0),\n Implies(translator0 == 0, translator0_output == 2),\n Implies(translator1 == 0, translator1_input == 0),\n Implies(translator1 == 0, translator1_output == 2),\n translator0 != translator1,\n translator1 != translator0,\n Or(False, translator0 == 0),\n Or(False, translator1 == 0)]\n"
     ]
    }
   ],
   "source": [
    "print(s)"
   ]
  },
  {
   "cell_type": "code",
   "execution_count": 11,
   "metadata": {},
   "outputs": [
    {
     "output_type": "stream",
     "name": "stdout",
     "text": [
      "unsat\n"
     ]
    }
   ],
   "source": [
    "print(s.check())\n",
    "if s.check() != z3.unsat:\n",
    "    print(s.model())"
   ]
  }
 ],
 "metadata": {
  "kernelspec": {
   "name": "python394jvsc74a57bd0aee8b7b246df8f9039afb4144a1f6fd8d2ca17a180786b69acc140d282b71a49",
   "display_name": "Python 3.9.4 64-bit"
  },
  "language_info": {
   "codemirror_mode": {
    "name": "ipython",
    "version": 3
   },
   "file_extension": ".py",
   "mimetype": "text/x-python",
   "name": "python",
   "nbconvert_exporter": "python",
   "pygments_lexer": "ipython3",
   "version": "3.9.4"
  },
  "metadata": {
   "interpreter": {
    "hash": "aee8b7b246df8f9039afb4144a1f6fd8d2ca17a180786b69acc140d282b71a49"
   }
  }
 },
 "nbformat": 4,
 "nbformat_minor": 2
}